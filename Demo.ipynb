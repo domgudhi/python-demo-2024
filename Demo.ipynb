{
  "metadata": {
    "kernelspec": {
      "name": "python",
      "display_name": "Python (Pyodide)",
      "language": "python"
    },
    "language_info": {
      "codemirror_mode": {
        "name": "python",
        "version": 3
      },
      "file_extension": ".py",
      "mimetype": "text/x-python",
      "name": "python",
      "nbconvert_exporter": "python",
      "pygments_lexer": "ipython3",
      "version": "3.8"
    }
  },
  "nbformat_minor": 4,
  "nbformat": 4,
  "cells": [
    {
      "cell_type": "code",
      "source": "import pandas as pd\nimport matplotlib.pyplot as plt\n\nurl = \"https://raw.githubusercontent.com/plotly/datasets/master/gapminder_with_codes.csv\"\ndata = pd.read_csv(url)\ndata_2007 = data[data[\"year\"] == 2007]\n\nfig, ax = plt.subplots()\n\nax.scatter(x=data_2007[\"gdpPercap\"], y=data_2007[\"lifeExp\"], alpha=0.5)\n\nax.set_xscale(\"log\")\n\nax.set_xlabel(\"GDP (USD) per capita\")\nax.set_ylabel(\"life expectancy (years)\")",
      "metadata": {
        "trusted": true
      },
      "outputs": [],
      "execution_count": null
    }
  ]
}